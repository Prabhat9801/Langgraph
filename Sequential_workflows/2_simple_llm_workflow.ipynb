{
 "cells": [
  {
   "cell_type": "code",
   "execution_count": 7,
   "id": "6715f1e9",
   "metadata": {},
   "outputs": [],
   "source": [
    "from langchain_google_genai import ChatGoogleGenerativeAI\n",
    "from langgraph.graph import StateGraph, START, END\n",
    "from typing import TypedDict\n",
    "from dotenv import load_dotenv"
   ]
  },
  {
   "cell_type": "code",
   "execution_count": 8,
   "id": "eefd179c",
   "metadata": {},
   "outputs": [
    {
     "data": {
      "text/plain": [
       "True"
      ]
     },
     "execution_count": 8,
     "metadata": {},
     "output_type": "execute_result"
    }
   ],
   "source": [
    "load_dotenv()"
   ]
  },
  {
   "cell_type": "code",
   "execution_count": 9,
   "id": "68ced2cb",
   "metadata": {},
   "outputs": [],
   "source": [
    "model = ChatGoogleGenerativeAI(model=\"gemini-2.0-flash\")"
   ]
  },
  {
   "cell_type": "code",
   "execution_count": 10,
   "id": "586069de",
   "metadata": {},
   "outputs": [],
   "source": [
    "# create state\n",
    "class LLMState(TypedDict):\n",
    "    question: str\n",
    "    answer: str"
   ]
  },
  {
   "cell_type": "code",
   "execution_count": 11,
   "id": "29bba3a8",
   "metadata": {},
   "outputs": [],
   "source": [
    "def llm_qa(state: LLMState) -> LLMState:\n",
    "    # extract question from state\n",
    "    question = state['question']\n",
    "    # form a prompt\n",
    "    prompt = f\"Answer the following question : {question}\"\n",
    "    # ask that question to the llm\n",
    "    answer = model.invoke(prompt).content\n",
    "    # update the answer in the state\n",
    "    state['answer'] = answer\n",
    "    return state"
   ]
  },
  {
   "cell_type": "code",
   "execution_count": null,
   "id": "fd0132b4",
   "metadata": {},
   "outputs": [],
   "source": [
    "# create our graph\n",
    "graph = StateGraph(LLMState)\n",
    "# add node\n",
    "graph.add_node('llm_qa',llm_qa)\n",
    "# add edges\n",
    "graph.add_edge(START, 'llm_qa')\n",
    "graph.add_edge('llm_qa', END)\n",
    "# create workflow\n",
    "workflow = graph.compile()\n",
    "\n",
    "\n",
    "\n",
    "\n"
   ]
  },
  {
   "cell_type": "code",
   "execution_count": 15,
   "id": "8b33790a",
   "metadata": {},
   "outputs": [
    {
     "name": "stdout",
     "output_type": "stream",
     "text": [
      "{'question': 'who is the prime minister of india ?', 'answer': 'The Prime Minister of India is Narendra Modi.'}\n"
     ]
    }
   ],
   "source": [
    "intial_state = {'question':'who is the prime minister of india ?'}\n",
    "final_state = workflow.invoke(intial_state)\n",
    "print(final_state)"
   ]
  },
  {
   "cell_type": "code",
   "execution_count": null,
   "id": "0f9d9eb4",
   "metadata": {},
   "outputs": [],
   "source": []
  }
 ],
 "metadata": {
  "kernelspec": {
   "display_name": "venv",
   "language": "python",
   "name": "python3"
  },
  "language_info": {
   "codemirror_mode": {
    "name": "ipython",
    "version": 3
   },
   "file_extension": ".py",
   "mimetype": "text/x-python",
   "name": "python",
   "nbconvert_exporter": "python",
   "pygments_lexer": "ipython3",
   "version": "3.10.0"
  }
 },
 "nbformat": 4,
 "nbformat_minor": 5
}
