{
 "cells": [
  {
   "cell_type": "code",
   "execution_count": 23,
   "id": "5fe01464",
   "metadata": {},
   "outputs": [],
   "source": [
    "from langgraph.graph import StateGraph, START, END\n",
    "from typing import TypedDict\n",
    "from langchain_google_genai import ChatGoogleGenerativeAI\n",
    "from dotenv import load_dotenv\n",
    "from langgraph.checkpoint.memory import InMemorySaver"
   ]
  },
  {
   "cell_type": "code",
   "execution_count": 24,
   "id": "d65bfc11",
   "metadata": {},
   "outputs": [],
   "source": [
    "load_dotenv()\n",
    "\n",
    "llm = ChatGoogleGenerativeAI(model=\"gemini-2.0-flash\")"
   ]
  },
  {
   "cell_type": "code",
   "execution_count": 25,
   "id": "5922b899",
   "metadata": {},
   "outputs": [],
   "source": [
    "class JokeState(TypedDict):\n",
    "\n",
    "    topic: str\n",
    "    joke: str\n",
    "    explanation: str"
   ]
  },
  {
   "cell_type": "code",
   "execution_count": 26,
   "id": "0561076c",
   "metadata": {},
   "outputs": [],
   "source": [
    "def generate_joke(state: JokeState):\n",
    "\n",
    "    prompt = f'generate a joke on the topic {state[\"topic\"]}'\n",
    "    response = llm.invoke(prompt).content\n",
    "\n",
    "    return {'joke': response}"
   ]
  },
  {
   "cell_type": "code",
   "execution_count": 27,
   "id": "d95ff880",
   "metadata": {},
   "outputs": [],
   "source": [
    "def generate_explanation(state: JokeState):\n",
    "\n",
    "    prompt = f'write an explanation for the joke - {state[\"joke\"]}'\n",
    "    response = llm.invoke(prompt).content\n",
    "\n",
    "    return {'explanation': response}"
   ]
  },
  {
   "cell_type": "code",
   "execution_count": 28,
   "id": "a1093470",
   "metadata": {},
   "outputs": [],
   "source": [
    "graph = StateGraph(JokeState)\n",
    "\n",
    "graph.add_node('generate_joke', generate_joke)\n",
    "graph.add_node('generate_explanation', generate_explanation)\n",
    "\n",
    "graph.add_edge(START, 'generate_joke')\n",
    "graph.add_edge('generate_joke', 'generate_explanation')\n",
    "graph.add_edge('generate_explanation', END)\n",
    "\n",
    "checkpointer = InMemorySaver()\n",
    "\n",
    "workflow = graph.compile(checkpointer=checkpointer)"
   ]
  },
  {
   "cell_type": "code",
   "execution_count": 29,
   "id": "5e8f11c8",
   "metadata": {},
   "outputs": [
    {
     "data": {
      "text/plain": [
       "{'topic': 'pizza',\n",
       " 'joke': 'Why did the pizza maker quit his job?\\n\\nBecause he was tired of getting kneaded!',\n",
       " 'explanation': 'The joke plays on the double meaning of the word \"kneaded.\"\\n\\n*   **Literal meaning:** In the context of pizza making, \"kneading\" refers to the process of working dough with your hands to develop gluten and give it a smooth, elastic texture. This is a physically demanding and repetitive task.\\n*   **Figurative meaning:** \"Kneaded\" sounds like \"needed.\" The joke implies the pizza maker was tired of being constantly in demand or feeling like he was being taken advantage of. He was \"kneaded\" in the sense that his labor was essential and perhaps he felt overworked or unappreciated.\\n\\nThe humor comes from the unexpected connection between the physical act of kneading dough and the feeling of being needed or pressured in a job. It\\'s a pun, relying on the similar sound of the word to create a humorous and relatable scenario.'}"
      ]
     },
     "execution_count": 29,
     "metadata": {},
     "output_type": "execute_result"
    }
   ],
   "source": [
    "config1 = {\"configurable\": {\"thread_id\": \"1\"}}\n",
    "workflow.invoke({'topic':'pizza'}, config=config1)"
   ]
  },
  {
   "cell_type": "code",
   "execution_count": 30,
   "id": "a6857b9c",
   "metadata": {},
   "outputs": [
    {
     "data": {
      "text/plain": [
       "StateSnapshot(values={'topic': 'pizza', 'joke': 'Why did the pizza maker quit his job?\\n\\nBecause he was tired of getting kneaded!', 'explanation': 'The joke plays on the double meaning of the word \"kneaded.\"\\n\\n*   **Literal meaning:** In the context of pizza making, \"kneading\" refers to the process of working dough with your hands to develop gluten and give it a smooth, elastic texture. This is a physically demanding and repetitive task.\\n*   **Figurative meaning:** \"Kneaded\" sounds like \"needed.\" The joke implies the pizza maker was tired of being constantly in demand or feeling like he was being taken advantage of. He was \"kneaded\" in the sense that his labor was essential and perhaps he felt overworked or unappreciated.\\n\\nThe humor comes from the unexpected connection between the physical act of kneading dough and the feeling of being needed or pressured in a job. It\\'s a pun, relying on the similar sound of the word to create a humorous and relatable scenario.'}, next=(), config={'configurable': {'thread_id': '1', 'checkpoint_ns': '', 'checkpoint_id': '1f099891-780c-6961-8002-47154aafe107'}}, metadata={'source': 'loop', 'step': 2, 'parents': {}}, created_at='2025-09-24T20:57:33.237078+00:00', parent_config={'configurable': {'thread_id': '1', 'checkpoint_ns': '', 'checkpoint_id': '1f099891-66a3-609b-8001-10928c26480c'}}, tasks=(), interrupts=())"
      ]
     },
     "execution_count": 30,
     "metadata": {},
     "output_type": "execute_result"
    }
   ],
   "source": [
    "workflow.get_state(config1)"
   ]
  },
  {
   "cell_type": "code",
   "execution_count": 31,
   "id": "eb9eecda",
   "metadata": {},
   "outputs": [
    {
     "data": {
      "text/plain": [
       "[StateSnapshot(values={'topic': 'pizza', 'joke': 'Why did the pizza maker quit his job?\\n\\nBecause he was tired of getting kneaded!', 'explanation': 'The joke plays on the double meaning of the word \"kneaded.\"\\n\\n*   **Literal meaning:** In the context of pizza making, \"kneading\" refers to the process of working dough with your hands to develop gluten and give it a smooth, elastic texture. This is a physically demanding and repetitive task.\\n*   **Figurative meaning:** \"Kneaded\" sounds like \"needed.\" The joke implies the pizza maker was tired of being constantly in demand or feeling like he was being taken advantage of. He was \"kneaded\" in the sense that his labor was essential and perhaps he felt overworked or unappreciated.\\n\\nThe humor comes from the unexpected connection between the physical act of kneading dough and the feeling of being needed or pressured in a job. It\\'s a pun, relying on the similar sound of the word to create a humorous and relatable scenario.'}, next=(), config={'configurable': {'thread_id': '1', 'checkpoint_ns': '', 'checkpoint_id': '1f099891-780c-6961-8002-47154aafe107'}}, metadata={'source': 'loop', 'step': 2, 'parents': {}}, created_at='2025-09-24T20:57:33.237078+00:00', parent_config={'configurable': {'thread_id': '1', 'checkpoint_ns': '', 'checkpoint_id': '1f099891-66a3-609b-8001-10928c26480c'}}, tasks=(), interrupts=()),\n",
       " StateSnapshot(values={'topic': 'pizza', 'joke': 'Why did the pizza maker quit his job?\\n\\nBecause he was tired of getting kneaded!'}, next=('generate_explanation',), config={'configurable': {'thread_id': '1', 'checkpoint_ns': '', 'checkpoint_id': '1f099891-66a3-609b-8001-10928c26480c'}}, metadata={'source': 'loop', 'step': 1, 'parents': {}}, created_at='2025-09-24T20:57:31.411266+00:00', parent_config={'configurable': {'thread_id': '1', 'checkpoint_ns': '', 'checkpoint_id': '1f099891-4d24-69ae-8000-f7447b3d698f'}}, tasks=(PregelTask(id='e87af80c-75cb-d71f-d74e-d68eb6a99d8b', name='generate_explanation', path=('__pregel_pull', 'generate_explanation'), error=None, interrupts=(), state=None, result={'explanation': 'The joke plays on the double meaning of the word \"kneaded.\"\\n\\n*   **Literal meaning:** In the context of pizza making, \"kneading\" refers to the process of working dough with your hands to develop gluten and give it a smooth, elastic texture. This is a physically demanding and repetitive task.\\n*   **Figurative meaning:** \"Kneaded\" sounds like \"needed.\" The joke implies the pizza maker was tired of being constantly in demand or feeling like he was being taken advantage of. He was \"kneaded\" in the sense that his labor was essential and perhaps he felt overworked or unappreciated.\\n\\nThe humor comes from the unexpected connection between the physical act of kneading dough and the feeling of being needed or pressured in a job. It\\'s a pun, relying on the similar sound of the word to create a humorous and relatable scenario.'}),), interrupts=()),\n",
       " StateSnapshot(values={'topic': 'pizza'}, next=('generate_joke',), config={'configurable': {'thread_id': '1', 'checkpoint_ns': '', 'checkpoint_id': '1f099891-4d24-69ae-8000-f7447b3d698f'}}, metadata={'source': 'loop', 'step': 0, 'parents': {}}, created_at='2025-09-24T20:57:28.738039+00:00', parent_config={'configurable': {'thread_id': '1', 'checkpoint_ns': '', 'checkpoint_id': '1f099891-4c83-6402-bfff-dad0ef61f045'}}, tasks=(PregelTask(id='ef426e5c-c144-c039-5310-c64bf48d3fb3', name='generate_joke', path=('__pregel_pull', 'generate_joke'), error=None, interrupts=(), state=None, result={'joke': 'Why did the pizza maker quit his job?\\n\\nBecause he was tired of getting kneaded!'}),), interrupts=()),\n",
       " StateSnapshot(values={}, next=('__start__',), config={'configurable': {'thread_id': '1', 'checkpoint_ns': '', 'checkpoint_id': '1f099891-4c83-6402-bfff-dad0ef61f045'}}, metadata={'source': 'input', 'step': -1, 'parents': {}}, created_at='2025-09-24T20:57:28.671949+00:00', parent_config=None, tasks=(PregelTask(id='02315575-5ca6-2a8c-440b-a215a1dc6f09', name='__start__', path=('__pregel_pull', '__start__'), error=None, interrupts=(), state=None, result={'topic': 'pizza'}),), interrupts=())]"
      ]
     },
     "execution_count": 31,
     "metadata": {},
     "output_type": "execute_result"
    }
   ],
   "source": [
    "list(workflow.get_state_history(config1))"
   ]
  },
  {
   "cell_type": "code",
   "execution_count": 32,
   "id": "628a9f28",
   "metadata": {},
   "outputs": [
    {
     "data": {
      "text/plain": [
       "{'topic': 'pasta',\n",
       " 'joke': 'Why did the spaghetti blush?\\n\\nBecause he saw the salad dressing!',\n",
       " 'explanation': 'The joke plays on the double meaning of \"dressing.\"\\n\\n*   **Literal meaning:** Dressing is a sauce or condiment used to flavor salads.\\n*   **Figurative meaning:** \"Dressing\" can also refer to clothing or lack thereof.\\n\\nThe joke implies that the spaghetti blushed because he saw the salad \"dressing\" in the sense of the salad being undressed or naked. The spaghetti is embarrassed by this immodest sight. It\\'s a silly and slightly suggestive pun.'}"
      ]
     },
     "execution_count": 32,
     "metadata": {},
     "output_type": "execute_result"
    }
   ],
   "source": [
    "config2 = {\"configurable\": {\"thread_id\": \"2\"}}\n",
    "workflow.invoke({'topic':'pasta'}, config=config2)"
   ]
  },
  {
   "cell_type": "code",
   "execution_count": 33,
   "id": "eef5beb5",
   "metadata": {},
   "outputs": [
    {
     "data": {
      "text/plain": [
       "StateSnapshot(values={'topic': 'pizza', 'joke': 'Why did the pizza maker quit his job?\\n\\nBecause he was tired of getting kneaded!', 'explanation': 'The joke plays on the double meaning of the word \"kneaded.\"\\n\\n*   **Literal meaning:** In the context of pizza making, \"kneading\" refers to the process of working dough with your hands to develop gluten and give it a smooth, elastic texture. This is a physically demanding and repetitive task.\\n*   **Figurative meaning:** \"Kneaded\" sounds like \"needed.\" The joke implies the pizza maker was tired of being constantly in demand or feeling like he was being taken advantage of. He was \"kneaded\" in the sense that his labor was essential and perhaps he felt overworked or unappreciated.\\n\\nThe humor comes from the unexpected connection between the physical act of kneading dough and the feeling of being needed or pressured in a job. It\\'s a pun, relying on the similar sound of the word to create a humorous and relatable scenario.'}, next=(), config={'configurable': {'thread_id': '1', 'checkpoint_ns': '', 'checkpoint_id': '1f099891-780c-6961-8002-47154aafe107'}}, metadata={'source': 'loop', 'step': 2, 'parents': {}}, created_at='2025-09-24T20:57:33.237078+00:00', parent_config={'configurable': {'thread_id': '1', 'checkpoint_ns': '', 'checkpoint_id': '1f099891-66a3-609b-8001-10928c26480c'}}, tasks=(), interrupts=())"
      ]
     },
     "execution_count": 33,
     "metadata": {},
     "output_type": "execute_result"
    }
   ],
   "source": [
    "workflow.get_state(config1)"
   ]
  },
  {
   "cell_type": "code",
   "execution_count": 34,
   "id": "f7d0ea21",
   "metadata": {},
   "outputs": [
    {
     "data": {
      "text/plain": [
       "[StateSnapshot(values={'topic': 'pizza', 'joke': 'Why did the pizza maker quit his job?\\n\\nBecause he was tired of getting kneaded!', 'explanation': 'The joke plays on the double meaning of the word \"kneaded.\"\\n\\n*   **Literal meaning:** In the context of pizza making, \"kneading\" refers to the process of working dough with your hands to develop gluten and give it a smooth, elastic texture. This is a physically demanding and repetitive task.\\n*   **Figurative meaning:** \"Kneaded\" sounds like \"needed.\" The joke implies the pizza maker was tired of being constantly in demand or feeling like he was being taken advantage of. He was \"kneaded\" in the sense that his labor was essential and perhaps he felt overworked or unappreciated.\\n\\nThe humor comes from the unexpected connection between the physical act of kneading dough and the feeling of being needed or pressured in a job. It\\'s a pun, relying on the similar sound of the word to create a humorous and relatable scenario.'}, next=(), config={'configurable': {'thread_id': '1', 'checkpoint_ns': '', 'checkpoint_id': '1f099891-780c-6961-8002-47154aafe107'}}, metadata={'source': 'loop', 'step': 2, 'parents': {}}, created_at='2025-09-24T20:57:33.237078+00:00', parent_config={'configurable': {'thread_id': '1', 'checkpoint_ns': '', 'checkpoint_id': '1f099891-66a3-609b-8001-10928c26480c'}}, tasks=(), interrupts=()),\n",
       " StateSnapshot(values={'topic': 'pizza', 'joke': 'Why did the pizza maker quit his job?\\n\\nBecause he was tired of getting kneaded!'}, next=('generate_explanation',), config={'configurable': {'thread_id': '1', 'checkpoint_ns': '', 'checkpoint_id': '1f099891-66a3-609b-8001-10928c26480c'}}, metadata={'source': 'loop', 'step': 1, 'parents': {}}, created_at='2025-09-24T20:57:31.411266+00:00', parent_config={'configurable': {'thread_id': '1', 'checkpoint_ns': '', 'checkpoint_id': '1f099891-4d24-69ae-8000-f7447b3d698f'}}, tasks=(PregelTask(id='e87af80c-75cb-d71f-d74e-d68eb6a99d8b', name='generate_explanation', path=('__pregel_pull', 'generate_explanation'), error=None, interrupts=(), state=None, result={'explanation': 'The joke plays on the double meaning of the word \"kneaded.\"\\n\\n*   **Literal meaning:** In the context of pizza making, \"kneading\" refers to the process of working dough with your hands to develop gluten and give it a smooth, elastic texture. This is a physically demanding and repetitive task.\\n*   **Figurative meaning:** \"Kneaded\" sounds like \"needed.\" The joke implies the pizza maker was tired of being constantly in demand or feeling like he was being taken advantage of. He was \"kneaded\" in the sense that his labor was essential and perhaps he felt overworked or unappreciated.\\n\\nThe humor comes from the unexpected connection between the physical act of kneading dough and the feeling of being needed or pressured in a job. It\\'s a pun, relying on the similar sound of the word to create a humorous and relatable scenario.'}),), interrupts=()),\n",
       " StateSnapshot(values={'topic': 'pizza'}, next=('generate_joke',), config={'configurable': {'thread_id': '1', 'checkpoint_ns': '', 'checkpoint_id': '1f099891-4d24-69ae-8000-f7447b3d698f'}}, metadata={'source': 'loop', 'step': 0, 'parents': {}}, created_at='2025-09-24T20:57:28.738039+00:00', parent_config={'configurable': {'thread_id': '1', 'checkpoint_ns': '', 'checkpoint_id': '1f099891-4c83-6402-bfff-dad0ef61f045'}}, tasks=(PregelTask(id='ef426e5c-c144-c039-5310-c64bf48d3fb3', name='generate_joke', path=('__pregel_pull', 'generate_joke'), error=None, interrupts=(), state=None, result={'joke': 'Why did the pizza maker quit his job?\\n\\nBecause he was tired of getting kneaded!'}),), interrupts=()),\n",
       " StateSnapshot(values={}, next=('__start__',), config={'configurable': {'thread_id': '1', 'checkpoint_ns': '', 'checkpoint_id': '1f099891-4c83-6402-bfff-dad0ef61f045'}}, metadata={'source': 'input', 'step': -1, 'parents': {}}, created_at='2025-09-24T20:57:28.671949+00:00', parent_config=None, tasks=(PregelTask(id='02315575-5ca6-2a8c-440b-a215a1dc6f09', name='__start__', path=('__pregel_pull', '__start__'), error=None, interrupts=(), state=None, result={'topic': 'pizza'}),), interrupts=())]"
      ]
     },
     "execution_count": 34,
     "metadata": {},
     "output_type": "execute_result"
    }
   ],
   "source": [
    "list(workflow.get_state_history(config1))"
   ]
  },
  {
   "cell_type": "markdown",
   "id": "5fccccee",
   "metadata": {},
   "source": [
    "### Time Travel"
   ]
  },
  {
   "cell_type": "code",
   "execution_count": 37,
   "id": "b5bfa235",
   "metadata": {},
   "outputs": [
    {
     "data": {
      "text/plain": [
       "StateSnapshot(values={'topic': 'pizza'}, next=('generate_joke',), config={'configurable': {'thread_id': '1', 'checkpoint_id': '1f099891-4d24-69ae-8000-f7447b3d698f'}}, metadata={'source': 'loop', 'step': 0, 'parents': {}}, created_at='2025-09-24T20:57:28.738039+00:00', parent_config={'configurable': {'thread_id': '1', 'checkpoint_ns': '', 'checkpoint_id': '1f099891-4c83-6402-bfff-dad0ef61f045'}}, tasks=(PregelTask(id='ef426e5c-c144-c039-5310-c64bf48d3fb3', name='generate_joke', path=('__pregel_pull', 'generate_joke'), error=None, interrupts=(), state=None, result={'joke': 'Why did the pizza maker quit his job?\\n\\nBecause he was tired of getting kneaded!'}),), interrupts=())"
      ]
     },
     "execution_count": 37,
     "metadata": {},
     "output_type": "execute_result"
    }
   ],
   "source": [
    "workflow.get_state({\"configurable\": {\"thread_id\": \"1\", \"checkpoint_id\": \"1f099891-4d24-69ae-8000-f7447b3d698f\"}})"
   ]
  },
  {
   "cell_type": "code",
   "execution_count": 38,
   "id": "1a7d2e73",
   "metadata": {},
   "outputs": [
    {
     "data": {
      "text/plain": [
       "{'topic': 'pizza',\n",
       " 'joke': 'Why did the pizza maker quit his job?\\n\\nBecause he was tired of getting dough!',\n",
       " 'explanation': 'The joke plays on the double meaning of the word \"dough\".\\n\\n* **Literal Meaning:** In the context of a pizza maker, \"dough\" refers to the uncooked mixture of flour, water, and other ingredients that is used to make pizza crust. Handling dough is a fundamental part of the job.\\n\\n* **Figurative Meaning:** \"Dough\" is also a slang term for money.\\n\\nThe joke implies that the pizza maker quit because he was tired of receiving money (dough) as payment for his work. The humor comes from the unexpected and absurd twist – while everyone expects to get paid for their job, the pizza maker is portrayed as being fed up with it, using the pizza-related \"dough\" as the punchline.'}"
      ]
     },
     "execution_count": 38,
     "metadata": {},
     "output_type": "execute_result"
    }
   ],
   "source": [
    "workflow.invoke(None, {\"configurable\": {\"thread_id\": \"1\", \"checkpoint_id\": \"1f099891-4d24-69ae-8000-f7447b3d698f\"}})"
   ]
  },
  {
   "cell_type": "code",
   "execution_count": 39,
   "id": "cd55cf35",
   "metadata": {},
   "outputs": [
    {
     "data": {
      "text/plain": [
       "[StateSnapshot(values={'topic': 'pizza', 'joke': 'Why did the pizza maker quit his job?\\n\\nBecause he was tired of getting dough!', 'explanation': 'The joke plays on the double meaning of the word \"dough\".\\n\\n* **Literal Meaning:** In the context of a pizza maker, \"dough\" refers to the uncooked mixture of flour, water, and other ingredients that is used to make pizza crust. Handling dough is a fundamental part of the job.\\n\\n* **Figurative Meaning:** \"Dough\" is also a slang term for money.\\n\\nThe joke implies that the pizza maker quit because he was tired of receiving money (dough) as payment for his work. The humor comes from the unexpected and absurd twist – while everyone expects to get paid for their job, the pizza maker is portrayed as being fed up with it, using the pizza-related \"dough\" as the punchline.'}, next=(), config={'configurable': {'thread_id': '1', 'checkpoint_ns': '', 'checkpoint_id': '1f099893-1aca-6988-8002-989db492b53c'}}, metadata={'source': 'loop', 'step': 2, 'parents': {}}, created_at='2025-09-24T20:58:17.145383+00:00', parent_config={'configurable': {'thread_id': '1', 'checkpoint_ns': '', 'checkpoint_id': '1f099893-0886-6401-8001-61bd0c1d0899'}}, tasks=(), interrupts=()),\n",
       " StateSnapshot(values={'topic': 'pizza', 'joke': 'Why did the pizza maker quit his job?\\n\\nBecause he was tired of getting dough!'}, next=('generate_explanation',), config={'configurable': {'thread_id': '1', 'checkpoint_ns': '', 'checkpoint_id': '1f099893-0886-6401-8001-61bd0c1d0899'}}, metadata={'source': 'loop', 'step': 1, 'parents': {}}, created_at='2025-09-24T20:58:15.229952+00:00', parent_config={'configurable': {'thread_id': '1', 'checkpoint_ns': '', 'checkpoint_id': '1f099891-4d24-69ae-8000-f7447b3d698f'}}, tasks=(PregelTask(id='e440ec17-181a-e670-3a13-a7b2386bbb0f', name='generate_explanation', path=('__pregel_pull', 'generate_explanation'), error=None, interrupts=(), state=None, result={'explanation': 'The joke plays on the double meaning of the word \"dough\".\\n\\n* **Literal Meaning:** In the context of a pizza maker, \"dough\" refers to the uncooked mixture of flour, water, and other ingredients that is used to make pizza crust. Handling dough is a fundamental part of the job.\\n\\n* **Figurative Meaning:** \"Dough\" is also a slang term for money.\\n\\nThe joke implies that the pizza maker quit because he was tired of receiving money (dough) as payment for his work. The humor comes from the unexpected and absurd twist – while everyone expects to get paid for their job, the pizza maker is portrayed as being fed up with it, using the pizza-related \"dough\" as the punchline.'}),), interrupts=()),\n",
       " StateSnapshot(values={'topic': 'pizza', 'joke': 'Why did the pizza maker quit his job?\\n\\nBecause he was tired of getting kneaded!', 'explanation': 'The joke plays on the double meaning of the word \"kneaded.\"\\n\\n*   **Literal meaning:** In the context of pizza making, \"kneading\" refers to the process of working dough with your hands to develop gluten and give it a smooth, elastic texture. This is a physically demanding and repetitive task.\\n*   **Figurative meaning:** \"Kneaded\" sounds like \"needed.\" The joke implies the pizza maker was tired of being constantly in demand or feeling like he was being taken advantage of. He was \"kneaded\" in the sense that his labor was essential and perhaps he felt overworked or unappreciated.\\n\\nThe humor comes from the unexpected connection between the physical act of kneading dough and the feeling of being needed or pressured in a job. It\\'s a pun, relying on the similar sound of the word to create a humorous and relatable scenario.'}, next=(), config={'configurable': {'thread_id': '1', 'checkpoint_ns': '', 'checkpoint_id': '1f099891-780c-6961-8002-47154aafe107'}}, metadata={'source': 'loop', 'step': 2, 'parents': {}}, created_at='2025-09-24T20:57:33.237078+00:00', parent_config={'configurable': {'thread_id': '1', 'checkpoint_ns': '', 'checkpoint_id': '1f099891-66a3-609b-8001-10928c26480c'}}, tasks=(), interrupts=()),\n",
       " StateSnapshot(values={'topic': 'pizza', 'joke': 'Why did the pizza maker quit his job?\\n\\nBecause he was tired of getting kneaded!'}, next=('generate_explanation',), config={'configurable': {'thread_id': '1', 'checkpoint_ns': '', 'checkpoint_id': '1f099891-66a3-609b-8001-10928c26480c'}}, metadata={'source': 'loop', 'step': 1, 'parents': {}}, created_at='2025-09-24T20:57:31.411266+00:00', parent_config={'configurable': {'thread_id': '1', 'checkpoint_ns': '', 'checkpoint_id': '1f099891-4d24-69ae-8000-f7447b3d698f'}}, tasks=(PregelTask(id='e87af80c-75cb-d71f-d74e-d68eb6a99d8b', name='generate_explanation', path=('__pregel_pull', 'generate_explanation'), error=None, interrupts=(), state=None, result={'explanation': 'The joke plays on the double meaning of the word \"kneaded.\"\\n\\n*   **Literal meaning:** In the context of pizza making, \"kneading\" refers to the process of working dough with your hands to develop gluten and give it a smooth, elastic texture. This is a physically demanding and repetitive task.\\n*   **Figurative meaning:** \"Kneaded\" sounds like \"needed.\" The joke implies the pizza maker was tired of being constantly in demand or feeling like he was being taken advantage of. He was \"kneaded\" in the sense that his labor was essential and perhaps he felt overworked or unappreciated.\\n\\nThe humor comes from the unexpected connection between the physical act of kneading dough and the feeling of being needed or pressured in a job. It\\'s a pun, relying on the similar sound of the word to create a humorous and relatable scenario.'}),), interrupts=()),\n",
       " StateSnapshot(values={'topic': 'pizza'}, next=('generate_joke',), config={'configurable': {'thread_id': '1', 'checkpoint_ns': '', 'checkpoint_id': '1f099891-4d24-69ae-8000-f7447b3d698f'}}, metadata={'source': 'loop', 'step': 0, 'parents': {}}, created_at='2025-09-24T20:57:28.738039+00:00', parent_config={'configurable': {'thread_id': '1', 'checkpoint_ns': '', 'checkpoint_id': '1f099891-4c83-6402-bfff-dad0ef61f045'}}, tasks=(PregelTask(id='ef426e5c-c144-c039-5310-c64bf48d3fb3', name='generate_joke', path=('__pregel_pull', 'generate_joke'), error=None, interrupts=(), state=None, result={'joke': 'Why did the pizza maker quit his job?\\n\\nBecause he was tired of getting kneaded!'}),), interrupts=()),\n",
       " StateSnapshot(values={}, next=('__start__',), config={'configurable': {'thread_id': '1', 'checkpoint_ns': '', 'checkpoint_id': '1f099891-4c83-6402-bfff-dad0ef61f045'}}, metadata={'source': 'input', 'step': -1, 'parents': {}}, created_at='2025-09-24T20:57:28.671949+00:00', parent_config=None, tasks=(PregelTask(id='02315575-5ca6-2a8c-440b-a215a1dc6f09', name='__start__', path=('__pregel_pull', '__start__'), error=None, interrupts=(), state=None, result={'topic': 'pizza'}),), interrupts=())]"
      ]
     },
     "execution_count": 39,
     "metadata": {},
     "output_type": "execute_result"
    }
   ],
   "source": [
    "list(workflow.get_state_history(config1))"
   ]
  },
  {
   "cell_type": "markdown",
   "id": "ab1b895e",
   "metadata": {},
   "source": [
    "#### Updating State"
   ]
  },
  {
   "cell_type": "code",
   "execution_count": 40,
   "id": "19378d86",
   "metadata": {},
   "outputs": [
    {
     "data": {
      "text/plain": [
       "{'configurable': {'thread_id': '1',\n",
       "  'checkpoint_ns': '',\n",
       "  'checkpoint_id': '1f099894-9031-6b16-8001-4271b2c71b5c'}}"
      ]
     },
     "execution_count": 40,
     "metadata": {},
     "output_type": "execute_result"
    }
   ],
   "source": [
    "workflow.update_state({\"configurable\": {\"thread_id\": \"1\", \"checkpoint_id\": \"1f099891-4d24-69ae-8000-f7447b3d698f\", \"checkpoint_ns\": \"\"}}, {'topic':'samosa'})"
   ]
  },
  {
   "cell_type": "code",
   "execution_count": 41,
   "id": "7c486bff",
   "metadata": {},
   "outputs": [
    {
     "data": {
      "text/plain": [
       "[StateSnapshot(values={'topic': 'samosa'}, next=('generate_joke',), config={'configurable': {'thread_id': '1', 'checkpoint_ns': '', 'checkpoint_id': '1f099894-9031-6b16-8001-4271b2c71b5c'}}, metadata={'source': 'update', 'step': 1, 'parents': {}}, created_at='2025-09-24T20:58:56.299496+00:00', parent_config={'configurable': {'thread_id': '1', 'checkpoint_ns': '', 'checkpoint_id': '1f099891-4d24-69ae-8000-f7447b3d698f'}}, tasks=(PregelTask(id='82b2c8da-1f9f-6ec9-ca27-8b3cb13dc7a9', name='generate_joke', path=('__pregel_pull', 'generate_joke'), error=None, interrupts=(), state=None, result=None),), interrupts=()),\n",
       " StateSnapshot(values={'topic': 'pizza', 'joke': 'Why did the pizza maker quit his job?\\n\\nBecause he was tired of getting dough!', 'explanation': 'The joke plays on the double meaning of the word \"dough\".\\n\\n* **Literal Meaning:** In the context of a pizza maker, \"dough\" refers to the uncooked mixture of flour, water, and other ingredients that is used to make pizza crust. Handling dough is a fundamental part of the job.\\n\\n* **Figurative Meaning:** \"Dough\" is also a slang term for money.\\n\\nThe joke implies that the pizza maker quit because he was tired of receiving money (dough) as payment for his work. The humor comes from the unexpected and absurd twist – while everyone expects to get paid for their job, the pizza maker is portrayed as being fed up with it, using the pizza-related \"dough\" as the punchline.'}, next=(), config={'configurable': {'thread_id': '1', 'checkpoint_ns': '', 'checkpoint_id': '1f099893-1aca-6988-8002-989db492b53c'}}, metadata={'source': 'loop', 'step': 2, 'parents': {}}, created_at='2025-09-24T20:58:17.145383+00:00', parent_config={'configurable': {'thread_id': '1', 'checkpoint_ns': '', 'checkpoint_id': '1f099893-0886-6401-8001-61bd0c1d0899'}}, tasks=(), interrupts=()),\n",
       " StateSnapshot(values={'topic': 'pizza', 'joke': 'Why did the pizza maker quit his job?\\n\\nBecause he was tired of getting dough!'}, next=('generate_explanation',), config={'configurable': {'thread_id': '1', 'checkpoint_ns': '', 'checkpoint_id': '1f099893-0886-6401-8001-61bd0c1d0899'}}, metadata={'source': 'loop', 'step': 1, 'parents': {}}, created_at='2025-09-24T20:58:15.229952+00:00', parent_config={'configurable': {'thread_id': '1', 'checkpoint_ns': '', 'checkpoint_id': '1f099891-4d24-69ae-8000-f7447b3d698f'}}, tasks=(PregelTask(id='e440ec17-181a-e670-3a13-a7b2386bbb0f', name='generate_explanation', path=('__pregel_pull', 'generate_explanation'), error=None, interrupts=(), state=None, result={'explanation': 'The joke plays on the double meaning of the word \"dough\".\\n\\n* **Literal Meaning:** In the context of a pizza maker, \"dough\" refers to the uncooked mixture of flour, water, and other ingredients that is used to make pizza crust. Handling dough is a fundamental part of the job.\\n\\n* **Figurative Meaning:** \"Dough\" is also a slang term for money.\\n\\nThe joke implies that the pizza maker quit because he was tired of receiving money (dough) as payment for his work. The humor comes from the unexpected and absurd twist – while everyone expects to get paid for their job, the pizza maker is portrayed as being fed up with it, using the pizza-related \"dough\" as the punchline.'}),), interrupts=()),\n",
       " StateSnapshot(values={'topic': 'pizza', 'joke': 'Why did the pizza maker quit his job?\\n\\nBecause he was tired of getting kneaded!', 'explanation': 'The joke plays on the double meaning of the word \"kneaded.\"\\n\\n*   **Literal meaning:** In the context of pizza making, \"kneading\" refers to the process of working dough with your hands to develop gluten and give it a smooth, elastic texture. This is a physically demanding and repetitive task.\\n*   **Figurative meaning:** \"Kneaded\" sounds like \"needed.\" The joke implies the pizza maker was tired of being constantly in demand or feeling like he was being taken advantage of. He was \"kneaded\" in the sense that his labor was essential and perhaps he felt overworked or unappreciated.\\n\\nThe humor comes from the unexpected connection between the physical act of kneading dough and the feeling of being needed or pressured in a job. It\\'s a pun, relying on the similar sound of the word to create a humorous and relatable scenario.'}, next=(), config={'configurable': {'thread_id': '1', 'checkpoint_ns': '', 'checkpoint_id': '1f099891-780c-6961-8002-47154aafe107'}}, metadata={'source': 'loop', 'step': 2, 'parents': {}}, created_at='2025-09-24T20:57:33.237078+00:00', parent_config={'configurable': {'thread_id': '1', 'checkpoint_ns': '', 'checkpoint_id': '1f099891-66a3-609b-8001-10928c26480c'}}, tasks=(), interrupts=()),\n",
       " StateSnapshot(values={'topic': 'pizza', 'joke': 'Why did the pizza maker quit his job?\\n\\nBecause he was tired of getting kneaded!'}, next=('generate_explanation',), config={'configurable': {'thread_id': '1', 'checkpoint_ns': '', 'checkpoint_id': '1f099891-66a3-609b-8001-10928c26480c'}}, metadata={'source': 'loop', 'step': 1, 'parents': {}}, created_at='2025-09-24T20:57:31.411266+00:00', parent_config={'configurable': {'thread_id': '1', 'checkpoint_ns': '', 'checkpoint_id': '1f099891-4d24-69ae-8000-f7447b3d698f'}}, tasks=(PregelTask(id='e87af80c-75cb-d71f-d74e-d68eb6a99d8b', name='generate_explanation', path=('__pregel_pull', 'generate_explanation'), error=None, interrupts=(), state=None, result={'explanation': 'The joke plays on the double meaning of the word \"kneaded.\"\\n\\n*   **Literal meaning:** In the context of pizza making, \"kneading\" refers to the process of working dough with your hands to develop gluten and give it a smooth, elastic texture. This is a physically demanding and repetitive task.\\n*   **Figurative meaning:** \"Kneaded\" sounds like \"needed.\" The joke implies the pizza maker was tired of being constantly in demand or feeling like he was being taken advantage of. He was \"kneaded\" in the sense that his labor was essential and perhaps he felt overworked or unappreciated.\\n\\nThe humor comes from the unexpected connection between the physical act of kneading dough and the feeling of being needed or pressured in a job. It\\'s a pun, relying on the similar sound of the word to create a humorous and relatable scenario.'}),), interrupts=()),\n",
       " StateSnapshot(values={'topic': 'pizza'}, next=('generate_joke',), config={'configurable': {'thread_id': '1', 'checkpoint_ns': '', 'checkpoint_id': '1f099891-4d24-69ae-8000-f7447b3d698f'}}, metadata={'source': 'loop', 'step': 0, 'parents': {}}, created_at='2025-09-24T20:57:28.738039+00:00', parent_config={'configurable': {'thread_id': '1', 'checkpoint_ns': '', 'checkpoint_id': '1f099891-4c83-6402-bfff-dad0ef61f045'}}, tasks=(PregelTask(id='ef426e5c-c144-c039-5310-c64bf48d3fb3', name='generate_joke', path=('__pregel_pull', 'generate_joke'), error=None, interrupts=(), state=None, result={'joke': 'Why did the pizza maker quit his job?\\n\\nBecause he was tired of getting kneaded!'}),), interrupts=()),\n",
       " StateSnapshot(values={}, next=('__start__',), config={'configurable': {'thread_id': '1', 'checkpoint_ns': '', 'checkpoint_id': '1f099891-4c83-6402-bfff-dad0ef61f045'}}, metadata={'source': 'input', 'step': -1, 'parents': {}}, created_at='2025-09-24T20:57:28.671949+00:00', parent_config=None, tasks=(PregelTask(id='02315575-5ca6-2a8c-440b-a215a1dc6f09', name='__start__', path=('__pregel_pull', '__start__'), error=None, interrupts=(), state=None, result={'topic': 'pizza'}),), interrupts=())]"
      ]
     },
     "execution_count": 41,
     "metadata": {},
     "output_type": "execute_result"
    }
   ],
   "source": [
    "list(workflow.get_state_history(config1))"
   ]
  },
  {
   "cell_type": "code",
   "execution_count": 42,
   "id": "58f63a80",
   "metadata": {},
   "outputs": [
    {
     "data": {
      "text/plain": [
       "{'topic': 'samosa',\n",
       " 'joke': 'Why did the samosa break up with the chutney?\\n\\nBecause it said, \"I need some space, I feel like you\\'re always all over me!\"',\n",
       " 'explanation': 'The joke plays on the common pairing of samosas and chutney as food items, and uses a double meaning of the phrase \"I need some space, I feel like you\\'re always all over me.\"\\n\\nHere\\'s the breakdown:\\n\\n* **Literal Meaning:** Samosas and chutney are often eaten together. The chutney is typically used as a dip or topping for the samosa. Therefore, the chutney is literally \"all over\" the samosa.\\n\\n* **Figurative Meaning:** The phrase \"I need some space, I feel like you\\'re always all over me!\" is a common expression used in romantic relationships to indicate that one person feels suffocated or overwhelmed by the other\\'s constant presence or attention.\\n\\nThe humor comes from applying this romantic relationship phrase to the food pairing. The samosa is anthropomorphized, given human emotions, and uses the phrase to end the \"relationship\" with the chutney, but its reasoning is based on the literal way they interact as food. The contrast between the serious relationship problem and the silly food pairing is what makes the joke funny.'}"
      ]
     },
     "execution_count": 42,
     "metadata": {},
     "output_type": "execute_result"
    }
   ],
   "source": [
    "workflow.invoke(None, {\"configurable\": {\"thread_id\": \"1\", \"checkpoint_id\": \"1f099894-9031-6b16-8001-4271b2c71b5c\"}})"
   ]
  },
  {
   "cell_type": "code",
   "execution_count": 43,
   "id": "db645da9",
   "metadata": {},
   "outputs": [
    {
     "data": {
      "text/plain": [
       "[StateSnapshot(values={'topic': 'samosa', 'joke': 'Why did the samosa break up with the chutney?\\n\\nBecause it said, \"I need some space, I feel like you\\'re always all over me!\"', 'explanation': 'The joke plays on the common pairing of samosas and chutney as food items, and uses a double meaning of the phrase \"I need some space, I feel like you\\'re always all over me.\"\\n\\nHere\\'s the breakdown:\\n\\n* **Literal Meaning:** Samosas and chutney are often eaten together. The chutney is typically used as a dip or topping for the samosa. Therefore, the chutney is literally \"all over\" the samosa.\\n\\n* **Figurative Meaning:** The phrase \"I need some space, I feel like you\\'re always all over me!\" is a common expression used in romantic relationships to indicate that one person feels suffocated or overwhelmed by the other\\'s constant presence or attention.\\n\\nThe humor comes from applying this romantic relationship phrase to the food pairing. The samosa is anthropomorphized, given human emotions, and uses the phrase to end the \"relationship\" with the chutney, but its reasoning is based on the literal way they interact as food. The contrast between the serious relationship problem and the silly food pairing is what makes the joke funny.'}, next=(), config={'configurable': {'thread_id': '1', 'checkpoint_ns': '', 'checkpoint_id': '1f099896-2deb-6bcf-8003-6bda473b5ff9'}}, metadata={'source': 'loop', 'step': 3, 'parents': {}}, created_at='2025-09-24T20:59:39.681889+00:00', parent_config={'configurable': {'thread_id': '1', 'checkpoint_ns': '', 'checkpoint_id': '1f099896-1944-66a5-8002-5bfcb6acae2e'}}, tasks=(), interrupts=()),\n",
       " StateSnapshot(values={'topic': 'samosa', 'joke': 'Why did the samosa break up with the chutney?\\n\\nBecause it said, \"I need some space, I feel like you\\'re always all over me!\"'}, next=('generate_explanation',), config={'configurable': {'thread_id': '1', 'checkpoint_ns': '', 'checkpoint_id': '1f099896-1944-66a5-8002-5bfcb6acae2e'}}, metadata={'source': 'loop', 'step': 2, 'parents': {}}, created_at='2025-09-24T20:59:37.516202+00:00', parent_config={'configurable': {'thread_id': '1', 'checkpoint_ns': '', 'checkpoint_id': '1f099894-9031-6b16-8001-4271b2c71b5c'}}, tasks=(PregelTask(id='a8f4bf72-aa28-7916-2d8a-34ece5622f4d', name='generate_explanation', path=('__pregel_pull', 'generate_explanation'), error=None, interrupts=(), state=None, result={'explanation': 'The joke plays on the common pairing of samosas and chutney as food items, and uses a double meaning of the phrase \"I need some space, I feel like you\\'re always all over me.\"\\n\\nHere\\'s the breakdown:\\n\\n* **Literal Meaning:** Samosas and chutney are often eaten together. The chutney is typically used as a dip or topping for the samosa. Therefore, the chutney is literally \"all over\" the samosa.\\n\\n* **Figurative Meaning:** The phrase \"I need some space, I feel like you\\'re always all over me!\" is a common expression used in romantic relationships to indicate that one person feels suffocated or overwhelmed by the other\\'s constant presence or attention.\\n\\nThe humor comes from applying this romantic relationship phrase to the food pairing. The samosa is anthropomorphized, given human emotions, and uses the phrase to end the \"relationship\" with the chutney, but its reasoning is based on the literal way they interact as food. The contrast between the serious relationship problem and the silly food pairing is what makes the joke funny.'}),), interrupts=()),\n",
       " StateSnapshot(values={'topic': 'samosa'}, next=('generate_joke',), config={'configurable': {'thread_id': '1', 'checkpoint_ns': '', 'checkpoint_id': '1f099894-9031-6b16-8001-4271b2c71b5c'}}, metadata={'source': 'update', 'step': 1, 'parents': {}}, created_at='2025-09-24T20:58:56.299496+00:00', parent_config={'configurable': {'thread_id': '1', 'checkpoint_ns': '', 'checkpoint_id': '1f099891-4d24-69ae-8000-f7447b3d698f'}}, tasks=(PregelTask(id='82b2c8da-1f9f-6ec9-ca27-8b3cb13dc7a9', name='generate_joke', path=('__pregel_pull', 'generate_joke'), error=None, interrupts=(), state=None, result={'joke': 'Why did the samosa break up with the chutney?\\n\\nBecause it said, \"I need some space, I feel like you\\'re always all over me!\"'}),), interrupts=()),\n",
       " StateSnapshot(values={'topic': 'pizza', 'joke': 'Why did the pizza maker quit his job?\\n\\nBecause he was tired of getting dough!', 'explanation': 'The joke plays on the double meaning of the word \"dough\".\\n\\n* **Literal Meaning:** In the context of a pizza maker, \"dough\" refers to the uncooked mixture of flour, water, and other ingredients that is used to make pizza crust. Handling dough is a fundamental part of the job.\\n\\n* **Figurative Meaning:** \"Dough\" is also a slang term for money.\\n\\nThe joke implies that the pizza maker quit because he was tired of receiving money (dough) as payment for his work. The humor comes from the unexpected and absurd twist – while everyone expects to get paid for their job, the pizza maker is portrayed as being fed up with it, using the pizza-related \"dough\" as the punchline.'}, next=(), config={'configurable': {'thread_id': '1', 'checkpoint_ns': '', 'checkpoint_id': '1f099893-1aca-6988-8002-989db492b53c'}}, metadata={'source': 'loop', 'step': 2, 'parents': {}}, created_at='2025-09-24T20:58:17.145383+00:00', parent_config={'configurable': {'thread_id': '1', 'checkpoint_ns': '', 'checkpoint_id': '1f099893-0886-6401-8001-61bd0c1d0899'}}, tasks=(), interrupts=()),\n",
       " StateSnapshot(values={'topic': 'pizza', 'joke': 'Why did the pizza maker quit his job?\\n\\nBecause he was tired of getting dough!'}, next=('generate_explanation',), config={'configurable': {'thread_id': '1', 'checkpoint_ns': '', 'checkpoint_id': '1f099893-0886-6401-8001-61bd0c1d0899'}}, metadata={'source': 'loop', 'step': 1, 'parents': {}}, created_at='2025-09-24T20:58:15.229952+00:00', parent_config={'configurable': {'thread_id': '1', 'checkpoint_ns': '', 'checkpoint_id': '1f099891-4d24-69ae-8000-f7447b3d698f'}}, tasks=(PregelTask(id='e440ec17-181a-e670-3a13-a7b2386bbb0f', name='generate_explanation', path=('__pregel_pull', 'generate_explanation'), error=None, interrupts=(), state=None, result={'explanation': 'The joke plays on the double meaning of the word \"dough\".\\n\\n* **Literal Meaning:** In the context of a pizza maker, \"dough\" refers to the uncooked mixture of flour, water, and other ingredients that is used to make pizza crust. Handling dough is a fundamental part of the job.\\n\\n* **Figurative Meaning:** \"Dough\" is also a slang term for money.\\n\\nThe joke implies that the pizza maker quit because he was tired of receiving money (dough) as payment for his work. The humor comes from the unexpected and absurd twist – while everyone expects to get paid for their job, the pizza maker is portrayed as being fed up with it, using the pizza-related \"dough\" as the punchline.'}),), interrupts=()),\n",
       " StateSnapshot(values={'topic': 'pizza', 'joke': 'Why did the pizza maker quit his job?\\n\\nBecause he was tired of getting kneaded!', 'explanation': 'The joke plays on the double meaning of the word \"kneaded.\"\\n\\n*   **Literal meaning:** In the context of pizza making, \"kneading\" refers to the process of working dough with your hands to develop gluten and give it a smooth, elastic texture. This is a physically demanding and repetitive task.\\n*   **Figurative meaning:** \"Kneaded\" sounds like \"needed.\" The joke implies the pizza maker was tired of being constantly in demand or feeling like he was being taken advantage of. He was \"kneaded\" in the sense that his labor was essential and perhaps he felt overworked or unappreciated.\\n\\nThe humor comes from the unexpected connection between the physical act of kneading dough and the feeling of being needed or pressured in a job. It\\'s a pun, relying on the similar sound of the word to create a humorous and relatable scenario.'}, next=(), config={'configurable': {'thread_id': '1', 'checkpoint_ns': '', 'checkpoint_id': '1f099891-780c-6961-8002-47154aafe107'}}, metadata={'source': 'loop', 'step': 2, 'parents': {}}, created_at='2025-09-24T20:57:33.237078+00:00', parent_config={'configurable': {'thread_id': '1', 'checkpoint_ns': '', 'checkpoint_id': '1f099891-66a3-609b-8001-10928c26480c'}}, tasks=(), interrupts=()),\n",
       " StateSnapshot(values={'topic': 'pizza', 'joke': 'Why did the pizza maker quit his job?\\n\\nBecause he was tired of getting kneaded!'}, next=('generate_explanation',), config={'configurable': {'thread_id': '1', 'checkpoint_ns': '', 'checkpoint_id': '1f099891-66a3-609b-8001-10928c26480c'}}, metadata={'source': 'loop', 'step': 1, 'parents': {}}, created_at='2025-09-24T20:57:31.411266+00:00', parent_config={'configurable': {'thread_id': '1', 'checkpoint_ns': '', 'checkpoint_id': '1f099891-4d24-69ae-8000-f7447b3d698f'}}, tasks=(PregelTask(id='e87af80c-75cb-d71f-d74e-d68eb6a99d8b', name='generate_explanation', path=('__pregel_pull', 'generate_explanation'), error=None, interrupts=(), state=None, result={'explanation': 'The joke plays on the double meaning of the word \"kneaded.\"\\n\\n*   **Literal meaning:** In the context of pizza making, \"kneading\" refers to the process of working dough with your hands to develop gluten and give it a smooth, elastic texture. This is a physically demanding and repetitive task.\\n*   **Figurative meaning:** \"Kneaded\" sounds like \"needed.\" The joke implies the pizza maker was tired of being constantly in demand or feeling like he was being taken advantage of. He was \"kneaded\" in the sense that his labor was essential and perhaps he felt overworked or unappreciated.\\n\\nThe humor comes from the unexpected connection between the physical act of kneading dough and the feeling of being needed or pressured in a job. It\\'s a pun, relying on the similar sound of the word to create a humorous and relatable scenario.'}),), interrupts=()),\n",
       " StateSnapshot(values={'topic': 'pizza'}, next=('generate_joke',), config={'configurable': {'thread_id': '1', 'checkpoint_ns': '', 'checkpoint_id': '1f099891-4d24-69ae-8000-f7447b3d698f'}}, metadata={'source': 'loop', 'step': 0, 'parents': {}}, created_at='2025-09-24T20:57:28.738039+00:00', parent_config={'configurable': {'thread_id': '1', 'checkpoint_ns': '', 'checkpoint_id': '1f099891-4c83-6402-bfff-dad0ef61f045'}}, tasks=(PregelTask(id='ef426e5c-c144-c039-5310-c64bf48d3fb3', name='generate_joke', path=('__pregel_pull', 'generate_joke'), error=None, interrupts=(), state=None, result={'joke': 'Why did the pizza maker quit his job?\\n\\nBecause he was tired of getting kneaded!'}),), interrupts=()),\n",
       " StateSnapshot(values={}, next=('__start__',), config={'configurable': {'thread_id': '1', 'checkpoint_ns': '', 'checkpoint_id': '1f099891-4c83-6402-bfff-dad0ef61f045'}}, metadata={'source': 'input', 'step': -1, 'parents': {}}, created_at='2025-09-24T20:57:28.671949+00:00', parent_config=None, tasks=(PregelTask(id='02315575-5ca6-2a8c-440b-a215a1dc6f09', name='__start__', path=('__pregel_pull', '__start__'), error=None, interrupts=(), state=None, result={'topic': 'pizza'}),), interrupts=())]"
      ]
     },
     "execution_count": 43,
     "metadata": {},
     "output_type": "execute_result"
    }
   ],
   "source": [
    "list(workflow.get_state_history(config1))"
   ]
  },
  {
   "cell_type": "markdown",
   "id": "d8435127",
   "metadata": {},
   "source": [
    "### Fault Tolerance"
   ]
  },
  {
   "cell_type": "code",
   "execution_count": 44,
   "id": "b7aacf7e",
   "metadata": {},
   "outputs": [],
   "source": [
    "from langgraph.graph import StateGraph, END\n",
    "from langgraph.checkpoint.memory import InMemorySaver\n",
    "from typing import TypedDict\n",
    "import time"
   ]
  },
  {
   "cell_type": "code",
   "execution_count": 45,
   "id": "095de12d",
   "metadata": {},
   "outputs": [],
   "source": [
    "# 1. Define the state\n",
    "class CrashState(TypedDict):\n",
    "    input: str\n",
    "    step1: str\n",
    "    step2: str"
   ]
  },
  {
   "cell_type": "code",
   "execution_count": 46,
   "id": "13365a36",
   "metadata": {},
   "outputs": [],
   "source": [
    "# 2. Define steps\n",
    "def step_1(state: CrashState) -> CrashState:\n",
    "    print(\"✅ Step 1 executed\")\n",
    "    return {\"step1\": \"done\", \"input\": state[\"input\"]}\n",
    "\n",
    "def step_2(state: CrashState) -> CrashState:\n",
    "    print(\"⏳ Step 2 hanging... now manually interrupt from the notebook toolbar (STOP button)\")\n",
    "    time.sleep(30)  # Simulate long-running hang\n",
    "    return {\"step2\": \"done\"}\n",
    "\n",
    "def step_3(state: CrashState) -> CrashState:\n",
    "    print(\"✅ Step 3 executed\")\n",
    "    return {\"done\": True}"
   ]
  },
  {
   "cell_type": "code",
   "execution_count": 47,
   "id": "2838a3a1",
   "metadata": {},
   "outputs": [],
   "source": [
    "# 3. Build the graph\n",
    "builder = StateGraph(CrashState)\n",
    "builder.add_node(\"step_1\", step_1)\n",
    "builder.add_node(\"step_2\", step_2)\n",
    "builder.add_node(\"step_3\", step_3)\n",
    "\n",
    "builder.set_entry_point(\"step_1\")\n",
    "builder.add_edge(\"step_1\", \"step_2\")\n",
    "builder.add_edge(\"step_2\", \"step_3\")\n",
    "builder.add_edge(\"step_3\", END)\n",
    "\n",
    "checkpointer = InMemorySaver()\n",
    "graph = builder.compile(checkpointer=checkpointer)"
   ]
  },
  {
   "cell_type": "code",
   "execution_count": 48,
   "id": "17c012e7",
   "metadata": {},
   "outputs": [
    {
     "name": "stdout",
     "output_type": "stream",
     "text": [
      "▶️ Running graph: Please manually interrupt during Step 2...\n",
      "✅ Step 1 executed\n",
      "⏳ Step 2 hanging... now manually interrupt from the notebook toolbar (STOP button)\n",
      "❌ Kernel manually interrupted (crash simulated).\n"
     ]
    }
   ],
   "source": [
    "try:\n",
    "    print(\"▶️ Running graph: Please manually interrupt during Step 2...\")\n",
    "    graph.invoke({\"input\": \"start\"}, config={\"configurable\": {\"thread_id\": 'thread-1'}})\n",
    "except KeyboardInterrupt:\n",
    "    print(\"❌ Kernel manually interrupted (crash simulated).\")"
   ]
  },
  {
   "cell_type": "code",
   "execution_count": 49,
   "id": "95df3f98",
   "metadata": {},
   "outputs": [
    {
     "name": "stdout",
     "output_type": "stream",
     "text": [
      "\n",
      "🔁 Re-running the graph to demonstrate fault tolerance...\n",
      "⏳ Step 2 hanging... now manually interrupt from the notebook toolbar (STOP button)\n",
      "✅ Step 3 executed\n",
      "\n",
      "✅ Final State: {'input': 'start', 'step1': 'done', 'step2': 'done'}\n"
     ]
    }
   ],
   "source": [
    "# 6. Re-run to show fault-tolerant resume\n",
    "print(\"\\n🔁 Re-running the graph to demonstrate fault tolerance...\")\n",
    "final_state = graph.invoke(None, config={\"configurable\": {\"thread_id\": 'thread-1'}})\n",
    "print(\"\\n✅ Final State:\", final_state)"
   ]
  },
  {
   "cell_type": "code",
   "execution_count": 50,
   "id": "4f61ccbd",
   "metadata": {},
   "outputs": [
    {
     "data": {
      "text/plain": [
       "[StateSnapshot(values={'input': 'start', 'step1': 'done', 'step2': 'done'}, next=(), config={'configurable': {'thread_id': 'thread-1', 'checkpoint_ns': '', 'checkpoint_id': '1f099899-31c9-6f50-8003-c42cf9e4b9fe'}}, metadata={'source': 'loop', 'step': 3, 'parents': {}}, created_at='2025-09-24T21:01:00.618120+00:00', parent_config={'configurable': {'thread_id': 'thread-1', 'checkpoint_ns': '', 'checkpoint_id': '1f099899-31c2-6a17-8002-ab96ca21cd7f'}}, tasks=(), interrupts=()),\n",
       " StateSnapshot(values={'input': 'start', 'step1': 'done', 'step2': 'done'}, next=('step_3',), config={'configurable': {'thread_id': 'thread-1', 'checkpoint_ns': '', 'checkpoint_id': '1f099899-31c2-6a17-8002-ab96ca21cd7f'}}, metadata={'source': 'loop', 'step': 2, 'parents': {}}, created_at='2025-09-24T21:01:00.615119+00:00', parent_config={'configurable': {'thread_id': 'thread-1', 'checkpoint_ns': '', 'checkpoint_id': '1f099896-bfd2-6819-8001-1e288c36a9bb'}}, tasks=(PregelTask(id='f3b15993-6fa8-9807-3ba2-9c7e9224bbfd', name='step_3', path=('__pregel_pull', 'step_3'), error=None, interrupts=(), state=None, result={}),), interrupts=()),\n",
       " StateSnapshot(values={'input': 'start', 'step1': 'done'}, next=('step_2',), config={'configurable': {'thread_id': 'thread-1', 'checkpoint_ns': '', 'checkpoint_id': '1f099896-bfd2-6819-8001-1e288c36a9bb'}}, metadata={'source': 'loop', 'step': 1, 'parents': {}}, created_at='2025-09-24T20:59:54.976177+00:00', parent_config={'configurable': {'thread_id': 'thread-1', 'checkpoint_ns': '', 'checkpoint_id': '1f099896-bf41-6008-8000-105efb3509fb'}}, tasks=(PregelTask(id='88a6c599-b6fe-3f25-ece3-a92a861c621d', name='step_2', path=('__pregel_pull', 'step_2'), error=None, interrupts=(), state=None, result={'step2': 'done'}),), interrupts=()),\n",
       " StateSnapshot(values={'input': 'start'}, next=('step_1',), config={'configurable': {'thread_id': 'thread-1', 'checkpoint_ns': '', 'checkpoint_id': '1f099896-bf41-6008-8000-105efb3509fb'}}, metadata={'source': 'loop', 'step': 0, 'parents': {}}, created_at='2025-09-24T20:59:54.921165+00:00', parent_config={'configurable': {'thread_id': 'thread-1', 'checkpoint_ns': '', 'checkpoint_id': '1f099896-be7e-6cc9-bfff-a2214e8eb380'}}, tasks=(PregelTask(id='7636e275-1b6f-9bf3-97b1-c2a5e00c0707', name='step_1', path=('__pregel_pull', 'step_1'), error=None, interrupts=(), state=None, result={'step1': 'done', 'input': 'start'}),), interrupts=()),\n",
       " StateSnapshot(values={}, next=('__start__',), config={'configurable': {'thread_id': 'thread-1', 'checkpoint_ns': '', 'checkpoint_id': '1f099896-be7e-6cc9-bfff-a2214e8eb380'}}, metadata={'source': 'input', 'step': -1, 'parents': {}}, created_at='2025-09-24T20:59:54.841620+00:00', parent_config=None, tasks=(PregelTask(id='044c8229-7db9-70a6-23fd-f83ee5b27599', name='__start__', path=('__pregel_pull', '__start__'), error=None, interrupts=(), state=None, result={'input': 'start'}),), interrupts=())]"
      ]
     },
     "execution_count": 50,
     "metadata": {},
     "output_type": "execute_result"
    }
   ],
   "source": [
    "list(graph.get_state_history({\"configurable\": {\"thread_id\": 'thread-1'}}))"
   ]
  }
 ],
 "metadata": {
  "kernelspec": {
   "display_name": "venv",
   "language": "python",
   "name": "python3"
  },
  "language_info": {
   "codemirror_mode": {
    "name": "ipython",
    "version": 3
   },
   "file_extension": ".py",
   "mimetype": "text/x-python",
   "name": "python",
   "nbconvert_exporter": "python",
   "pygments_lexer": "ipython3",
   "version": "3.10.0"
  }
 },
 "nbformat": 4,
 "nbformat_minor": 5
}
