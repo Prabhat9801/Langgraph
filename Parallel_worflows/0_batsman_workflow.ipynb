{
 "cells": [
  {
   "cell_type": "code",
   "execution_count": 28,
   "id": "1424070e",
   "metadata": {},
   "outputs": [],
   "source": [
    "from langgraph.graph import StateGraph, START, END\n",
    "from typing import TypedDict"
   ]
  },
  {
   "cell_type": "code",
   "execution_count": 29,
   "id": "57d637b6",
   "metadata": {},
   "outputs": [],
   "source": [
    "class BatsmanState(TypedDict):\n",
    "    runs:int\n",
    "    balls:int\n",
    "    fours:int\n",
    "    sixs:int\n",
    "\n",
    "    sr:float\n",
    "    bpb:float\n",
    "    boundary_percent:float\n",
    "    summary:str"
   ]
  },
  {
   "cell_type": "code",
   "execution_count": 30,
   "id": "ce52115d",
   "metadata": {},
   "outputs": [],
   "source": [
    "def calculate_sr(state:BatsmanState):\n",
    "    sr = (state['runs']/state['balls'])*100\n",
    "    return {'sr':sr}"
   ]
  },
  {
   "cell_type": "code",
   "execution_count": 31,
   "id": "00dfb769",
   "metadata": {},
   "outputs": [],
   "source": [
    "def calculate_bpb(state:BatsmanState)->BatsmanState:\n",
    "    bpb = state['balls']/state['fours'] + state['sixs']\n",
    "    return {'bpb':bpb}"
   ]
  },
  {
   "cell_type": "code",
   "execution_count": 32,
   "id": "3e793741",
   "metadata": {},
   "outputs": [],
   "source": [
    "def calculate_boundary_percent(state:BatsmanState):\n",
    "    boundary_percent = (((state['fours']*4) + (state['sixs']*6))/state['runs'])*100\n",
    "    return {'boundary_percent':boundary_percent}"
   ]
  },
  {
   "cell_type": "code",
   "execution_count": 33,
   "id": "4f49923d",
   "metadata": {},
   "outputs": [],
   "source": [
    "def summary(state:BatsmanState):\n",
    "    summary = f\"\"\"\n",
    "    strike rate - {state['sr']} \\n\n",
    "    balls per boundary - {state['bpb']} \\n\n",
    "    boundary percent - {state['boundary_percent']}\n",
    "    \"\"\"\n",
    "    \n",
    "    return {\"summary\":summary}"
   ]
  },
  {
   "cell_type": "code",
   "execution_count": 34,
   "id": "632d889e",
   "metadata": {},
   "outputs": [],
   "source": [
    "# graph\n",
    "graph = StateGraph(BatsmanState)\n",
    "\n",
    "#nodes\n",
    "graph.add_node('calculate_sr',calculate_sr)\n",
    "graph.add_node('calculate_bpb',calculate_bpb)\n",
    "graph.add_node('calculate_boundary_percent',calculate_boundary_percent)\n",
    "graph.add_node('summary',summary)\n",
    "\n",
    "#edges\n",
    "graph.add_edge(START,'calculate_sr')\n",
    "graph.add_edge(START,'calculate_bpb')\n",
    "graph.add_edge(START,'calculate_boundary_percent')\n",
    "graph.add_edge('calculate_sr','summary')\n",
    "graph.add_edge('calculate_bpb','summary')\n",
    "graph.add_edge('calculate_boundary_percent','summary')\n",
    "graph.add_edge('summary',END)\n",
    "\n",
    "workflow = graph.compile()"
   ]
  },
  {
   "cell_type": "code",
   "execution_count": 36,
   "id": "5d221e29",
   "metadata": {},
   "outputs": [
    {
     "data": {
      "text/plain": [
       "{'runs': 100,\n",
       " 'balls': 50,\n",
       " 'fours': 6,\n",
       " 'sixs': 4,\n",
       " 'sr': 200.0,\n",
       " 'bpb': 12.333333333333334,\n",
       " 'boundary_percent': 48.0,\n",
       " 'summary': '\\n    strike rate - 200.0 \\n\\n    balls per boundary - 12.333333333333334 \\n\\n    boundary percent - 48.0\\n    '}"
      ]
     },
     "execution_count": 36,
     "metadata": {},
     "output_type": "execute_result"
    }
   ],
   "source": [
    "intial_state = {\n",
    "    'runs':100,\n",
    "    'balls':50,\n",
    "    'fours':6,\n",
    "    'sixs':4\n",
    "}\n",
    "workflow.invoke(intial_state)\n"
   ]
  },
  {
   "cell_type": "code",
   "execution_count": null,
   "id": "d572f6cb",
   "metadata": {},
   "outputs": [],
   "source": []
  }
 ],
 "metadata": {
  "kernelspec": {
   "display_name": "venv",
   "language": "python",
   "name": "python3"
  },
  "language_info": {
   "codemirror_mode": {
    "name": "ipython",
    "version": 3
   },
   "file_extension": ".py",
   "mimetype": "text/x-python",
   "name": "python",
   "nbconvert_exporter": "python",
   "pygments_lexer": "ipython3",
   "version": "3.10.0"
  }
 },
 "nbformat": 4,
 "nbformat_minor": 5
}
